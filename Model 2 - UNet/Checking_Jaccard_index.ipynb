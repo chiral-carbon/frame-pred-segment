{
 "nbformat": 4,
 "nbformat_minor": 0,
 "metadata": {
  "colab": {
   "provenance": []
  },
  "kernelspec": {
   "name": "python3",
   "display_name": "Python 3"
  },
  "language_info": {
   "name": "python"
  },
  "accelerator": "GPU",
  "gpuClass": "standard"
 },
 "cells": [
  {
   "cell_type": "code",
   "execution_count": null,
   "metadata": {
    "id": "eNlf1XsAM-D2"
   },
   "outputs": [],
   "source": [
    "import os\n",
    "import torch\n",
    "import imageio.v3 as iio\n",
    "import numpy as np\n",
    "import matplotlib.pyplot as plt\n",
    "from main import SegmentationDataSet,encoding_block,unet_model\n",
    "import torch\n",
    "import torch\n",
    "from torch.utils.data import Dataset, DataLoader\n",
    "from PIL import Image\n",
    "import torch.nn as nn\n",
    "from torch.optim import Adam\n",
    "from tqdm import tqdm\n"
   ]
  },
  {
   "cell_type": "code",
   "source": [
    "from google.colab import drive\n",
    "drive.mount('/content/drive')"
   ],
   "metadata": {
    "id": "CPfFTPHLps51"
   },
   "execution_count": null,
   "outputs": []
  },
  {
   "cell_type": "code",
   "source": [
    "!pip install torchmetrics\n",
    "import torchmetrics"
   ],
   "metadata": {
    "id": "K_j6Ms1TT1AC"
   },
   "execution_count": null,
   "outputs": []
  },
  {
   "cell_type": "code",
   "source": [
    "#Give Unet Saved path here\n",
    "unet_model_saved_path='/content/drive/MyDrive/Deep_Learning_Final_Project/UNET TRAINED 10 epochs/unet.pt'\n",
    "#Give validation set saved path here\n",
    "val_dir='/content/drive/MyDrive/Deep_Learning_Final_Project/Dataset_Student/val/video_'"
   ],
   "metadata": {
    "id": "2gHcbA3skcuR"
   },
   "execution_count": null,
   "outputs": []
  },
  {
   "cell_type": "code",
   "source": [
    "val_data_dir = [val_dir+ str(i) for i in range(1000,2000)]\n",
    "val_dataset = SegmentationDataSet(val_data_dir,None)\n",
    "val_dataloader = torch.utils.data.DataLoader(val_dataset, batch_size=1, shuffle=True)"
   ],
   "metadata": {
    "id": "EQ9jV6rm4zV3"
   },
   "execution_count": null,
   "outputs": []
  },
  {
   "cell_type": "code",
   "source": [
    "DEVICE = \"cuda\" if torch.cuda.is_available() else \"cpu\""
   ],
   "metadata": {
    "id": "v6BnnwX373Km"
   },
   "execution_count": null,
   "outputs": []
  },
  {
   "cell_type": "code",
   "source": [
    "model = unet_model().to(DEVICE)"
   ],
   "metadata": {
    "id": "K3GC40Dj7-Cc"
   },
   "execution_count": null,
   "outputs": []
  },
  {
   "cell_type": "code",
   "source": [
    "m = torch.load(unet_model_saved_path).state_dict()"
   ],
   "metadata": {
    "id": "UF7OHok2hBB_"
   },
   "execution_count": null,
   "outputs": []
  },
  {
   "cell_type": "code",
   "source": [
    "print(m)"
   ],
   "metadata": {
    "id": "vaCaN_kChJeQ"
   },
   "execution_count": null,
   "outputs": []
  },
  {
   "cell_type": "code",
   "source": [
    "model.load_state_dict(m)"
   ],
   "metadata": {
    "colab": {
     "base_uri": "https://localhost:8080/"
    },
    "id": "afwUwOctgSaO",
    "outputId": "ebb18089-297b-4244-afbf-cd93cfae27d3"
   },
   "execution_count": null,
   "outputs": [
    {
     "output_type": "execute_result",
     "data": {
      "text/plain": [
       "<All keys matched successfully>"
      ]
     },
     "metadata": {},
     "execution_count": 19
    }
   ]
  },
  {
   "cell_type": "code",
   "source": [
    "jaccard = torchmetrics.JaccardIndex(task=\"multiclass\", num_classes=49)"
   ],
   "metadata": {
    "id": "H-blsl5uUBXT"
   },
   "execution_count": null,
   "outputs": []
  },
  {
   "cell_type": "code",
   "source": [
    "y_preds_concat = None\n",
    "y_trues_concat = None\n",
    "\n",
    "y_preds_list = []\n",
    "y_trues_list = []"
   ],
   "metadata": {
    "id": "kRUYZig5iXHd"
   },
   "execution_count": null,
   "outputs": []
  },
  {
   "cell_type": "code",
   "source": [
    "def evaluate_jaccard_index(loader, model):\n",
    "    num_correct = 0\n",
    "    num_pixels = 0\n",
    "    dice_score = 0\n",
    "    model.eval()\n",
    "  \n",
    "    with torch.no_grad():\n",
    "        for x, y in tqdm(loader):\n",
    "           \n",
    "            x = x.permute(0,3,1,2).type(torch.cuda.FloatTensor).to(DEVICE)\n",
    "            print(x.shape)\n",
    "            break\n",
    "            y = y.to(DEVICE)\n",
    "            softmax = nn.Softmax(dim=1)\n",
    "            preds = torch.argmax(softmax(model(x)),axis=1)\n",
    "\n",
    "            y_preds_list.append(preds)\n",
    "            y_trues_list.append(y)\n",
    "            \n",
    "          \n",
    "            num_correct += ((preds == y) & (y != 0)).sum()\n",
    "            num_pixels += (y !=0).sum()\n",
    "\n",
    "            dice_score += (2 * (preds * y).sum()) / ((preds + y).sum() + 1e-8)\n",
    "           \n",
    "\n",
    "    y_preds_concat = torch.cat(y_preds_list, dim=0)\n",
    "    y_trues_concat = torch.cat(y_trues_list, dim=0)\n",
    "\n",
    "    print(len(y_preds_list))\n",
    "    print(y_preds_concat.shape)\n",
    "\n",
    "    jac_idx = jaccard(y_trues_concat, y_preds_concat)\n",
    "\n",
    "    print(f\"Jaccard Index {jac_idx}\")\n",
    "\n",
    "    print(f\"Got {num_correct}/{num_pixels} with acc {num_correct/num_pixels*100:.2f}\")\n",
    "    print(f\"Dice score: {dice_score/len(loader)}\")\n",
    "    model.train()"
   ],
   "metadata": {
    "id": "rgZ9EG6geod8"
   },
   "execution_count": null,
   "outputs": []
  },
  {
   "cell_type": "code",
   "source": [
    "val_data_subset = torch.utils.data.Subset(val_dataset, range(1000))\n",
    "val_data_subset_loader = torch.utils.data.DataLoader(val_data_subset, batch_size=1, shuffle=True)"
   ],
   "metadata": {
    "id": "NpWYspGebBR5"
   },
   "execution_count": null,
   "outputs": []
  },
  {
   "cell_type": "code",
   "source": [
    "len(val_data_subset_loader)"
   ],
   "metadata": {
    "colab": {
     "base_uri": "https://localhost:8080/"
    },
    "id": "dtvqutLgb4Xe",
    "outputId": "e061e9c1-d65e-4081-84ed-c56c0497c519"
   },
   "execution_count": null,
   "outputs": [
    {
     "output_type": "execute_result",
     "data": {
      "text/plain": [
       "1000"
      ]
     },
     "metadata": {},
     "execution_count": 45
    }
   ]
  },
  {
   "cell_type": "code",
   "source": [
    "evaluate_jaccard_index(val_data_subset_loader, model)"
   ],
   "metadata": {
    "colab": {
     "base_uri": "https://localhost:8080/"
    },
    "id": "shcAMmAOetXj",
    "outputId": "e8796997-e58e-4361-da6c-df499f653cbc"
   },
   "execution_count": null,
   "outputs": [
    {
     "output_type": "stream",
     "name": "stderr",
     "text": [
      "100%|██████████| 1000/1000 [07:25<00:00,  2.24it/s]\n"
     ]
    },
    {
     "output_type": "stream",
     "name": "stdout",
     "text": [
      "1000\n",
      "torch.Size([1000, 160, 240])\n",
      "Jaccard Index 0.968131959438324\n",
      "Got 1910876/1937892 with acc 98.61\n",
      "Dice score: 31.050695419311523\n"
     ]
    }
   ]
  }
 ]
}
